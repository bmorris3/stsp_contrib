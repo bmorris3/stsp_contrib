{
 "cells": [
  {
   "cell_type": "markdown",
   "metadata": {},
   "source": [
    "# compute differential rotation coefficient *k*"
   ]
  },
  {
   "cell_type": "code",
   "execution_count": 1,
   "metadata": {},
   "outputs": [],
   "source": [
    "import numpy as np"
   ]
  },
  {
   "cell_type": "code",
   "execution_count": 2,
   "metadata": {},
   "outputs": [],
   "source": [
    "# for JOE LLAMA model...\n",
    "theta_max = 10.0 * np.pi/180.0 # setting them to be grazing at about 1x (R_p / R_star)\n",
    "\n",
    "p_max = 10.3 # days, the very max seen\n",
    "p_eq = 10.0 # days, given by Joe"
   ]
  },
  {
   "cell_type": "code",
   "execution_count": 3,
   "metadata": {},
   "outputs": [
    {
     "name": "stdout",
     "output_type": "stream",
     "text": [
      "0.965925363423\n",
      "0.606908805129\n"
     ]
    }
   ],
   "source": [
    "k = (1 - p_eq/p_max) / (np.sin(theta_max)**2.0)\n",
    "print(k) # = delta Omega / Omega_eq\n",
    "print(k*2.*np.pi/p_eq) # = delta Omega"
   ]
  },
  {
   "cell_type": "code",
   "execution_count": 4,
   "metadata": {},
   "outputs": [
    {
     "name": "stdout",
     "output_type": "stream",
     "text": [
      "0.522258857914\n",
      "0.328144918259\n"
     ]
    }
   ],
   "source": [
    "p_max = 10.16 # the peak of periods seen over this latitude\n",
    "\n",
    "k = (1 - p_eq/p_max) / (np.sin(theta_max)**2.0)\n",
    "print(k) # = delta Omega / Omega_eq\n",
    "print(k*2.*np.pi/p_eq) # = delta Omega"
   ]
  },
  {
   "cell_type": "code",
   "execution_count": 5,
   "metadata": {},
   "outputs": [
    {
     "name": "stdout",
     "output_type": "stream",
     "text": [
      "0.23508981465\n",
      "0.147711286928\n"
     ]
    }
   ],
   "source": [
    "theta_max = 15.0* np.pi/180.0\n",
    "k = (1 - p_eq/p_max) / (np.sin(theta_max)**2.0)\n",
    "print(k) # = delta Omega / Omega_eq\n",
    "print(k*2.*np.pi/p_eq) # = delta Omega"
   ]
  },
  {
   "cell_type": "code",
   "execution_count": null,
   "metadata": {},
   "outputs": [],
   "source": [
    ""
   ]
  }
 ],
 "metadata": {
  "kernelspec": {
   "display_name": "Python 2",
   "language": "python",
   "name": "python2"
  },
  "language_info": {
   "codemirror_mode": {
    "name": "ipython",
    "version": 2.0
   },
   "file_extension": ".py",
   "mimetype": "text/x-python",
   "name": "python",
   "nbconvert_exporter": "python",
   "pygments_lexer": "ipython2",
   "version": "2.7.9"
  }
 },
 "nbformat": 4,
 "nbformat_minor": 0
}